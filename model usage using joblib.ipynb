{
 "cells": [
  {
   "cell_type": "code",
   "execution_count": 1,
   "id": "a9fa559e",
   "metadata": {},
   "outputs": [],
   "source": [
    "from joblib import dump,load"
   ]
  },
  {
   "cell_type": "code",
   "execution_count": 2,
   "id": "9b1df5f5",
   "metadata": {},
   "outputs": [],
   "source": [
    "model=load('realestate.joblib')"
   ]
  },
  {
   "cell_type": "code",
   "execution_count": 3,
   "id": "ba74d223",
   "metadata": {},
   "outputs": [],
   "source": [
    "import numpy as np"
   ]
  },
  {
   "cell_type": "code",
   "execution_count": 4,
   "id": "0cb402c6",
   "metadata": {},
   "outputs": [],
   "source": [
    "input=np.array([[-0.43942006,3.12628155,-1.12165014,-0.27288841,-1.422627,-0.23979304\n",
    "                ,-1.31238772,2.61111401,-1.0016859,-0.5778192,-0.97491834,0.41164221,-0.86091034]])"
   ]
  },
  {
   "cell_type": "code",
   "execution_count": 5,
   "id": "3380349f",
   "metadata": {},
   "outputs": [
    {
     "data": {
      "text/plain": [
       "array([22.432])"
      ]
     },
     "execution_count": 5,
     "metadata": {},
     "output_type": "execute_result"
    }
   ],
   "source": [
    "model.predict(input)"
   ]
  },
  {
   "cell_type": "code",
   "execution_count": null,
   "id": "c5a44569",
   "metadata": {},
   "outputs": [],
   "source": []
  }
 ],
 "metadata": {
  "kernelspec": {
   "display_name": "Python 3 (ipykernel)",
   "language": "python",
   "name": "python3"
  },
  "language_info": {
   "codemirror_mode": {
    "name": "ipython",
    "version": 3
   },
   "file_extension": ".py",
   "mimetype": "text/x-python",
   "name": "python",
   "nbconvert_exporter": "python",
   "pygments_lexer": "ipython3",
   "version": "3.11.3"
  }
 },
 "nbformat": 4,
 "nbformat_minor": 5
}
